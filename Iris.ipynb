{
 "cells": [
  {
   "cell_type": "code",
   "execution_count": 1,
   "id": "878874bd",
   "metadata": {},
   "outputs": [],
   "source": [
    "import numpy as np\n",
    "from sklearn import datasets, metrics, discriminant_analysis\n",
    "from sklearn.model_selection import train_test_split\n",
    "import matplotlib.pyplot as plt"
   ]
  },
  {
   "cell_type": "code",
   "execution_count": 2,
   "id": "4d0d778d",
   "metadata": {},
   "outputs": [],
   "source": [
    "(data_x, data_y) = datasets.load_iris(return_X_y=True, as_frame=True)\n",
    "train_x, test_x, train_y, test_y = train_test_split(data_x, data_y, test_size=0.33, random_state=42)"
   ]
  },
  {
   "cell_type": "code",
   "execution_count": 17,
   "id": "541697f4",
   "metadata": {},
   "outputs": [
    {
     "data": {
      "text/plain": [
       "(     sepal length (cm)  sepal width (cm)  petal length (cm)  petal width (cm)\n",
       " 96                 5.7               2.9                4.2               1.3\n",
       " 105                7.6               3.0                6.6               2.1\n",
       " 66                 5.6               3.0                4.5               1.5\n",
       " 0                  5.1               3.5                1.4               0.2\n",
       " 122                7.7               2.8                6.7               2.0\n",
       " ..                 ...               ...                ...               ...\n",
       " 71                 6.1               2.8                4.0               1.3\n",
       " 106                4.9               2.5                4.5               1.7\n",
       " 14                 5.8               4.0                1.2               0.2\n",
       " 92                 5.8               2.6                4.0               1.2\n",
       " 102                7.1               3.0                5.9               2.1\n",
       " \n",
       " [100 rows x 4 columns],\n",
       " 96     1\n",
       " 105    2\n",
       " 66     1\n",
       " 0      0\n",
       " 122    2\n",
       "       ..\n",
       " 71     1\n",
       " 106    2\n",
       " 14     0\n",
       " 92     1\n",
       " 102    2\n",
       " Name: target, Length: 100, dtype: int64)"
      ]
     },
     "execution_count": 17,
     "metadata": {},
     "output_type": "execute_result"
    }
   ],
   "source": [
    "train_x, train_y"
   ]
  },
  {
   "cell_type": "code",
   "execution_count": 25,
   "id": "487bcc82",
   "metadata": {},
   "outputs": [
    {
     "data": {
      "text/plain": [
       "<matplotlib.collections.PathCollection at 0x17685d1c0>"
      ]
     },
     "execution_count": 25,
     "metadata": {},
     "output_type": "execute_result"
    },
    {
     "data": {
      "image/png": "[encoded data removed]",
      "text/plain": [
       "<Figure size 432x288 with 1 Axes>"
      ]
     },
     "metadata": {
      "needs_background": "light"
     },
     "output_type": "display_data"
    }
   ],
   "source": [
    "sepal = np.asarray(train_x[\"sepal length (cm)\"])\n",
    "width = np.asarray(train_x[\"sepal width (cm)\"])\n",
    "length = np.asarray(train_x[\"petal length (cm)\"])\n",
    "petal = np.asanyarray(train_x[\"petal width (cm)\"])\n",
    "\n",
    "plt.scatter(sepal, train_y)\n",
    "plt.scatter(width, train_y)\n",
    "plt.scatter(length, train_y)\n",
    "plt.scatter(petal, train_y)"
   ]
  },
  {
   "cell_type": "code",
   "execution_count": 4,
   "id": "b19ed655",
   "metadata": {},
   "outputs": [
    {
     "data": {
      "text/plain": [
       "LinearDiscriminantAnalysis()"
      ]
     },
     "execution_count": 4,
     "metadata": {},
     "output_type": "execute_result"
    }
   ],
   "source": [
    "reg = discriminant_analysis.LinearDiscriminantAnalysis()\n",
    "reg.fit(train_x, train_y)"
   ]
  },
  {
   "cell_type": "code",
   "execution_count": 27,
   "id": "f395ef7c",
   "metadata": {},
   "outputs": [],
   "source": [
    "new_data_x = reg.transform(train_x)"
   ]
  },
  {
   "cell_type": "code",
   "execution_count": 50,
   "id": "5747c037",
   "metadata": {},
   "outputs": [
    {
     "name": "stdout",
     "output_type": "stream",
     "text": [
      "(100, 2)\n"
     ]
    },
    {
     "data": {
      "text/plain": [
       "<matplotlib.collections.PathCollection at 0x1769dc820>"
      ]
     },
     "execution_count": 50,
     "metadata": {},
     "output_type": "execute_result"
    },
    {
     "data": {
      "image/png": "[encoded data removed]",
      "text/plain": [
       "<Figure size 432x288 with 1 Axes>"
      ]
     },
     "metadata": {
      "needs_background": "light"
     },
     "output_type": "display_data"
    }
   ],
   "source": [
    "print(new_data_x.shape)\n",
    "# print(np.asarray(train_x)[:, 0])\n",
    "# print(np.asarray(train_y))\n",
    "\n",
    "test_set_x = reg.transform(test_x)\n",
    "\n",
    "\n",
    "plt.scatter(new_data_x[: ,0], train_y)\n",
    "plt.scatter(test_set_x[:, 0], test_y)\n",
    "# plt.scatter(test_x[0], test_y[0])"
   ]
  },
  {
   "cell_type": "code",
   "execution_count": 55,
   "id": "4c70ccf0",
   "metadata": {},
   "outputs": [
    {
     "name": "stdout",
     "output_type": "stream",
     "text": [
      "0.9712808730614589\n"
     ]
    }
   ],
   "source": [
    "y_pred = reg.predict(test_x)\n",
    "r2_score = metrics.r2_score(test_y, y_pred)\n",
    "print(r2_score)"
   ]
  }
 ],
 "metadata": {
  "kernelspec": {
   "display_name": "Python 3 (ipykernel)",
   "language": "python",
   "name": "python3"
  },
  "language_info": {
   "codemirror_mode": {
    "name": "ipython",
    "version": 3
   },
   "file_extension": ".py",
   "mimetype": "text/x-python",
   "name": "python",
   "nbconvert_exporter": "python",
   "pygments_lexer": "ipython3",
   "version": "3.9.9"
  }
 },
 "nbformat": 4,
 "nbformat_minor": 5
}
