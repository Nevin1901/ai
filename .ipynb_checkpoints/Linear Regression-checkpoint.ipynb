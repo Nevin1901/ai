{
 "cells": [
  {
   "cell_type": "code",
   "execution_count": 2,
   "id": "ca21af92",
   "metadata": {},
   "outputs": [],
   "source": [
    "from sklearn import linear_model, datasets\n",
    "import matplotlib.pyplot as plt\n",
    "import numpy as np"
   ]
  },
  {
   "cell_type": "code",
   "execution_count": 3,
   "id": "4d850ac1",
   "metadata": {},
   "outputs": [],
   "source": [
    "data = np.array([[0, 1], [1, 2], [3, 4], [5, 5]])\n",
    "x_values = data[:, 0] # get the 0th column\n",
    "y_values = data[:, 1] # get the 1st column"
   ]
  },
  {
   "cell_type": "code",
   "execution_count": 4,
   "id": "b12306ae",
   "metadata": {},
   "outputs": [
    {
     "data": {
      "text/plain": [
       "<matplotlib.collections.PathCollection at 0x16833a160>"
      ]
     },
     "execution_count": 4,
     "metadata": {},
     "output_type": "execute_result"
    },
    {
     "data": {
      "image/png": "[encoded data removed]",
      "text/plain": [
       "<Figure size 432x288 with 1 Axes>"
      ]
     },
     "metadata": {
      "needs_background": "light"
     },
     "output_type": "display_data"
    }
   ],
   "source": [
    "plt.scatter(x_values, y_values)"
   ]
  },
  {
   "cell_type": "code",
   "execution_count": 5,
   "id": "c1673f12",
   "metadata": {},
   "outputs": [
    {
     "name": "stdout",
     "output_type": "stream",
     "text": [
      "[[0]\n",
      " [1]\n",
      " [3]\n",
      " [5]]\n",
      "[[1. 1.]\n",
      " [2. 1.]\n",
      " [4. 1.]\n",
      " [5. 1.]]\n"
     ]
    }
   ],
   "source": [
    "weights = np.ones(len(y_values))\n",
    "X = x_values[:, None]\n",
    "Y = np.stack((y_values, weights), axis=1)\n",
    "print(X)\n",
    "print(Y)"
   ]
  },
  {
   "cell_type": "code",
   "execution_count": 7,
   "id": "8f202e5d",
   "metadata": {
    "scrolled": true
   },
   "outputs": [
    {
     "data": {
      "text/plain": [
       "array([[0.81355932],\n",
       "       [0.        ]])"
      ]
     },
     "execution_count": 7,
     "metadata": {},
     "output_type": "execute_result"
    }
   ],
   "source": [
    "model = linear_model.LinearRegression();\n",
    "model.fit(X, Y)\n",
    "model.coef_"
   ]
  },
  {
   "cell_type": "markdown",
   "id": "03ffd493",
   "metadata": {},
   "source": [
    "## Equation\n",
    "Y = 0.813x + 0"
   ]
  },
  {
   "cell_type": "code",
   "execution_count": 8,
   "id": "b6c2e461",
   "metadata": {},
   "outputs": [
    {
     "name": "stdout",
     "output_type": "stream",
     "text": [
      "[0.    0.813 1.626 2.439 3.252 4.065 4.878 5.691 6.504 7.317]\n"
     ]
    },
    {
     "data": {
      "image/png": "[encoded data removed]",
      "text/plain": [
       "<Figure size 432x288 with 1 Axes>"
      ]
     },
     "metadata": {
      "needs_background": "light"
     },
     "output_type": "display_data"
    }
   ],
   "source": [
    "x_vals = []\n",
    "y_vals = []\n",
    "for i in range(10):\n",
    "    x_vals = np.append(x_vals ,0.813 * i)\n",
    "    y_vals = np.append(y_vals, i)\n",
    "\n",
    "print(x_vals)\n",
    "\n",
    "plt.plot(x_vals, y_vals)\n",
    "plt.show()"
   ]
  },
  {
   "cell_type": "markdown",
   "id": "c0998876",
   "metadata": {},
   "source": [
    "# Now with Diabetes Dataset"
   ]
  },
  {
   "cell_type": "code",
   "execution_count": 9,
   "id": "343423fd",
   "metadata": {},
   "outputs": [],
   "source": [
    "(x, Y) = datasets.load_diabetes(return_X_y=True)"
   ]
  },
  {
   "cell_type": "code",
   "execution_count": 17,
   "id": "c62edd0f",
   "metadata": {},
   "outputs": [
    {
     "data": {
      "text/plain": [
       "array([ 0.03807591,  0.05068012,  0.06169621,  0.02187235, -0.0442235 ,\n",
       "       -0.03482076, -0.04340085, -0.00259226,  0.01990842, -0.01764613])"
      ]
     },
     "execution_count": 17,
     "metadata": {},
     "output_type": "execute_result"
    }
   ],
   "source": [
    "x[0]"
   ]
  }
 ],
 "metadata": {
  "kernelspec": {
   "display_name": "Python 3 (ipykernel)",
   "language": "python",
   "name": "python3"
  },
  "language_info": {
   "codemirror_mode": {
    "name": "ipython",
    "version": 3
   },
   "file_extension": ".py",
   "mimetype": "text/x-python",
   "name": "python",
   "nbconvert_exporter": "python",
   "pygments_lexer": "ipython3",
   "version": "3.9.9"
  }
 },
 "nbformat": 4,
 "nbformat_minor": 5
}
