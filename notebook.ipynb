{
 "cells": [
  {
   "cell_type": "code",
   "execution_count": 5,
   "metadata": {},
   "outputs": [],
   "source": [
    "import numpy as np\n",
    "import math\n",
    "import matplotlib.pyplot as plt"
   ]
  },
  {
   "cell_type": "markdown",
   "metadata": {},
   "source": [
    "#### Equation\n",
    "y = 0.64x + b\n",
    "\n",
    "#### Sum of Squared Residuals\n",
    "(actual - (intercept + 0.64 x estimated))^2"
   ]
  },
  {
   "cell_type": "markdown",
   "metadata": {},
   "source": [
    "#### Data\n",
    "Actual vs Estimated\n",
    "Actual|Estimated\n",
    "---|---|\n",
    "|1.4|0.5|\n",
    "|1.9|2.3|\n",
    "|3.2|2.9|"
   ]
  },
  {
   "cell_type": "code",
   "execution_count": 11,
   "metadata": {},
   "outputs": [
    {
     "name": "stdout",
     "output_type": "stream",
     "text": [
      "0\n",
      "1\n",
      "2\n",
      "1.1663999999999997\n"
     ]
    }
   ],
   "source": [
    "ssr1 = math.pow((1.4 - (0 + 0.64 * 0.5)), 2)\n",
    "actual = np.array([1.4, 1.9, 3.2])\n",
    "estimated = np.array([0.5, 2.3, 2.9])\n",
    "for idx, item in enumerate(actual):\n",
    "    print(idx)\n",
    "print(ssr1)"
   ]
  }
 ],
 "metadata": {
  "interpreter": {
   "hash": "916dbcbb3f70747c44a77c7bcd40155683ae19c65e1c03b4aa3499c5328201f1"
  },
  "kernelspec": {
   "display_name": "Python 3.8.10 64-bit",
   "language": "python",
   "name": "python3"
  },
  "language_info": {
   "codemirror_mode": {
    "name": "ipython",
    "version": 3
   },
   "file_extension": ".py",
   "mimetype": "text/x-python",
   "name": "python",
   "nbconvert_exporter": "python",
   "pygments_lexer": "ipython3",
   "version": "3.8.10"
  },
  "orig_nbformat": 4
 },
 "nbformat": 4,
 "nbformat_minor": 2
}
