{
 "cells": [
  {
   "cell_type": "code",
   "execution_count": 1,
   "id": "fc082e37",
   "metadata": {},
   "outputs": [],
   "source": [
    "import numpy as np\n",
    "from sklearn import metrics, datasets, svm\n",
    "from sklearn.model_selection import train_test_split\n",
    "import matplotlib.pyplot as plt"
   ]
  },
  {
   "cell_type": "code",
   "execution_count": 18,
   "id": "45e1937c",
   "metadata": {},
   "outputs": [],
   "source": [
    "(data_x, data_y) = datasets.load_digits(return_X_y=True, as_frame=True)\n",
    "\n",
    "train_x, test_x, train_y, test_y = train_test_split(data_x, data_y, test_size=0.33, random_state=42)"
   ]
  },
  {
   "cell_type": "code",
   "execution_count": 30,
   "id": "1f516649",
   "metadata": {},
   "outputs": [
    {
     "name": "stdout",
     "output_type": "stream",
     "text": [
      "0.9747495471542739\n"
     ]
    }
   ],
   "source": [
    "reg = svm.SVC(kernel='rbf')\n",
    "reg.fit(train_x, train_y)\n",
    "\n",
    "y_pred = reg.predict(test_x)\n",
    "r2_score = metrics.r2_score(test_y, y_pred)\n",
    "print(r2_score)"
   ]
  }
 ],
 "metadata": {
  "kernelspec": {
   "display_name": "Python 3 (ipykernel)",
   "language": "python",
   "name": "python3"
  },
  "language_info": {
   "codemirror_mode": {
    "name": "ipython",
    "version": 3
   },
   "file_extension": ".py",
   "mimetype": "text/x-python",
   "name": "python",
   "nbconvert_exporter": "python",
   "pygments_lexer": "ipython3",
   "version": "3.9.9"
  }
 },
 "nbformat": 4,
 "nbformat_minor": 5
}
