{
 "cells": [
  {
   "cell_type": "code",
   "execution_count": 88,
   "id": "da237eee",
   "metadata": {},
   "outputs": [],
   "source": [
    "import numpy as np\n",
    "from sklearn import linear_model, datasets, metrics\n",
    "from sklearn.model_selection import train_test_split\n",
    "import matplotlib.pyplot as plt"
   ]
  },
  {
   "cell_type": "code",
   "execution_count": 89,
   "id": "01c903b6",
   "metadata": {},
   "outputs": [],
   "source": [
    "(data_x, data_y) = datasets.load_diabetes(return_X_y=True)\n",
    "# data_x = data_x[:, None, 2] # use only one axis\n",
    "# if we don't only use one axis, then the data \"doesn't converge well\"\n",
    "# with weights this algorythm doesn't work, but with weights it does work\n",
    "\n",
    "# split the data\n",
    "x_train, x_test, y_train, y_test = train_test_split(data_x, data_y, test_size=0.33, random_state=42)"
   ]
  },
  {
   "cell_type": "code",
   "execution_count": 99,
   "id": "5b18b005",
   "metadata": {},
   "outputs": [
    {
     "name": "stdout",
     "output_type": "stream",
     "text": [
      "0.5103954261241667\n",
      "0.5107927948336242\n",
      "0.5025356497424547\n",
      "0.4898068721304428\n",
      "0.479351387083776\n",
      "0.4673629099376265\n",
      "0.4518940664241641\n",
      "0.4329448177653912\n",
      "0.4105151010621082\n",
      "0.3877212973687373\n"
     ]
    },
    {
     "name": "stderr",
     "output_type": "stream",
     "text": [
      "/var/folders/hg/3xdb8s0x6pn8mx31dqvzg6vc0000gp/T/ipykernel_30935/2361216019.py:3: UserWarning: With alpha=0, this algorithm does not converge well. You are advised to use the LinearRegression estimator\n",
      "  reg.fit(x_train, y_train)\n",
      "/opt/homebrew/lib/python3.9/site-packages/sklearn/linear_model/_coordinate_descent.py:647: UserWarning: Coordinate descent with no regularization may lead to unexpected results and is discouraged.\n",
      "  model = cd_fast.enet_coordinate_descent(\n",
      "/opt/homebrew/lib/python3.9/site-packages/sklearn/linear_model/_coordinate_descent.py:647: ConvergenceWarning: Objective did not converge. You might want to increase the number of iterations, check the scale of the features or consider increasing regularisation. Duality gap: 4.365e+05, tolerance: 1.781e+02 Linear regression models with null weight for the l1 regularization term are more efficiently fitted using one of the solvers implemented in sklearn.linear_model.Ridge/RidgeCV instead.\n",
      "  model = cd_fast.enet_coordinate_descent(\n"
     ]
    }
   ],
   "source": [
    "\n",
    "for i in range(10):\n",
    "    reg = linear_model.Lasso(alpha=i / 10)\n",
    "    reg.fit(x_train, y_train)\n",
    "    # reg.fit([[1], [2], [3]], [[1, 1], [2, 1], [3,1]])\n",
    "    y_pred = reg.predict(x_test)\n",
    "#     mean_squared_error = metrics.mean_squared_error(y_test, y_pred)\n",
    "    r2_score = metrics.r2_score(y_test, y_pred)\n",
    "    print(r2_score) # 0.1 alpha has highest accuracy on test set"
   ]
  }
 ],
 "metadata": {
  "kernelspec": {
   "display_name": "Python 3 (ipykernel)",
   "language": "python",
   "name": "python3"
  },
  "language_info": {
   "codemirror_mode": {
    "name": "ipython",
    "version": 3
   },
   "file_extension": ".py",
   "mimetype": "text/x-python",
   "name": "python",
   "nbconvert_exporter": "python",
   "pygments_lexer": "ipython3",
   "version": "3.9.9"
  }
 },
 "nbformat": 4,
 "nbformat_minor": 5
}
