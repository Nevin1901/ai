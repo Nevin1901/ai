{
 "cells": [
  {
   "cell_type": "code",
   "execution_count": 1,
   "id": "e6af5ace",
   "metadata": {},
   "outputs": [],
   "source": [
    "import numpy as np\n",
    "from sklearn import datasets, discriminant_analysis, metrics\n",
    "from sklearn.model_selection import train_test_split\n",
    "import matplotlib.pyplot as plt"
   ]
  },
  {
   "cell_type": "code",
   "execution_count": 2,
   "id": "c3784cc6",
   "metadata": {},
   "outputs": [],
   "source": [
    "(data_x, data_y) = datasets.load_digits(return_X_y=True, as_frame=True)\n",
    "\n",
    "# original values are 1-16, so make them lower floating point values\n",
    "# data_x = data_x / 255.0\n",
    "\n",
    "# turn the images into binary images\n",
    "# data_x = np.where(data_x > 0.02, 1, 0)\n",
    "\n",
    "# for some reason, turning the image into a binary image results in worse classification\n",
    "\n",
    "# split data into train/test splits\n",
    "x_train, x_test, y_train, y_test = train_test_split(data_x, data_y, test_size=0.33, random_state=42)"
   ]
  },
  {
   "cell_type": "code",
   "execution_count": 3,
   "id": "b2a738a5",
   "metadata": {},
   "outputs": [
    {
     "name": "stdout",
     "output_type": "stream",
     "text": [
      "1203 594\n",
      "7\n"
     ]
    },
    {
     "data": {
      "text/plain": [
       "<matplotlib.image.AxesImage at 0x16596d1f0>"
      ]
     },
     "execution_count": 3,
     "metadata": {},
     "output_type": "execute_result"
    },
    {
     "data": {
      "image/png": "[encoded data removed]",
      "text/plain": [
       "<Figure size 432x288 with 1 Axes>"
      ]
     },
     "metadata": {
      "needs_background": "light"
     },
     "output_type": "display_data"
    }
   ],
   "source": [
    "print(len(x_train), len(x_test))\n",
    "digit = np.asarray(data_x[7:8])[0]\n",
    "print(data_y[7])\n",
    "plt.imshow(np.reshape(digit, (8, 8))) # this is one freaking image"
   ]
  },
  {
   "cell_type": "code",
   "execution_count": 16,
   "id": "48298f44",
   "metadata": {},
   "outputs": [
    {
     "name": "stdout",
     "output_type": "stream",
     "text": [
      "0.8764605943415714\n"
     ]
    }
   ],
   "source": [
    "reg = discriminant_analysis.LinearDiscriminantAnalysis()\n",
    "reg.fit(x_train, y_train)\n",
    "\n",
    "y_pred = reg.predict(x_test)\n",
    "r2_score = metrics.r2_score(y_test, y_pred)\n",
    "print(r2_score)"
   ]
  },
  {
   "cell_type": "code",
   "execution_count": 17,
   "id": "f822b4c8",
   "metadata": {},
   "outputs": [
    {
     "data": {
      "text/plain": [
       "array([9])"
      ]
     },
     "execution_count": 17,
     "metadata": {},
     "output_type": "execute_result"
    },
    {
     "data": {
      "image/png": "[encoded data removed]",
      "text/plain": [
       "<Figure size 432x288 with 1 Axes>"
      ]
     },
     "metadata": {
      "needs_background": "light"
     },
     "output_type": "display_data"
    }
   ],
   "source": [
    "plt.imshow(np.reshape(np.asarray(x_test[1:2]), [8, 8]))\n",
    "reg.predict(x_test[1:2]) # proof that it works\n",
    "# print(np.asarray(x_test, dtype=float)[0:1])"
   ]
  }
 ],
 "metadata": {
  "kernelspec": {
   "display_name": "Python 3 (ipykernel)",
   "language": "python",
   "name": "python3"
  },
  "language_info": {
   "codemirror_mode": {
    "name": "ipython",
    "version": 3
   },
   "file_extension": ".py",
   "mimetype": "text/x-python",
   "name": "python",
   "nbconvert_exporter": "python",
   "pygments_lexer": "ipython3",
   "version": "3.9.9"
  }
 },
 "nbformat": 4,
 "nbformat_minor": 5
}
